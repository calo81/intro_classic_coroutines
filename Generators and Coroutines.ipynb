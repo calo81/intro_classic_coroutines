{
 "cells": [
  {
   "cell_type": "markdown",
   "id": "38c88e31",
   "metadata": {
    "slideshow": {
     "slide_type": "slide"
    }
   },
   "source": [
    "# Iterators, Generators and Classic Coroutines\n",
    "\n",
    "Let's start with **Iterators**.\n",
    "\n",
    "## Iterators\n",
    "\n",
    "An **iterator** is a type of object that allow us to iterate through an **iterable**. \n",
    "- An example of an **iterable** is a `list`. \n",
    "- But really we can implement an **iterable** as just a protocol for iterators to work\n",
    "\n",
    "Here, and just for showing purposes, let's create a footballer **iterable** for a fixed set of words. It will behave so that it only iterates over footballers with more than `x` ballon'd or. (Only doing for 2 or more for the example)"
   ]
  },
  {
   "cell_type": "code",
   "execution_count": 13,
   "id": "a7a1c571",
   "metadata": {
    "slideshow": {
     "slide_type": "slide"
    }
   },
   "outputs": [],
   "source": [
    "class BalonDeOrHolders:\n",
    "    def __init__(self, how_many):\n",
    "        self.how_many = how_many\n",
    "        self.winners = {\"Lionel Messi\":\"7\",\n",
    "\"Cristiano Ronaldo\":\"5\",\n",
    "\"Johan Cruyff\":\"3\",\n",
    "\"Marco van Basten\":\"3\",\n",
    "\"Michel Platini\":\"3\",\n",
    "\"Franz Beckenbauer\":\"2\",\n",
    "\"Ronaldo\":\"2\",\n",
    "\"Alfredo Di Stefano\":\"2\",\n",
    "\"Kevin Keegan\":\"2\",\n",
    "\"Karl Heinz-Rummenigge\":\"2\"}\n",
    "    def __getitem__(self, index):\n",
    "        filtered = [winner for winner in self.winners.items() if int(winner[1]) >= self.how_many]\n",
    "        return filtered[index]\n",
    "        "
   ]
  },
  {
   "cell_type": "code",
   "execution_count": 16,
   "id": "838329ff",
   "metadata": {
    "slideshow": {
     "slide_type": "fragment"
    }
   },
   "outputs": [
    {
     "name": "stdout",
     "output_type": "stream",
     "text": [
      "('Lionel Messi', '7')\n",
      "('Cristiano Ronaldo', '5')\n"
     ]
    }
   ],
   "source": [
    "holders = BalonDeOrHolders(4)\n",
    "for holder in holders:\n",
    "    print(holder)"
   ]
  },
  {
   "cell_type": "markdown",
   "id": "6861060c",
   "metadata": {
    "slideshow": {
     "slide_type": "slide"
    }
   },
   "source": [
    "More commonly you would use the `__iter__` method:"
   ]
  },
  {
   "cell_type": "code",
   "execution_count": 27,
   "id": "0fbd9ed5",
   "metadata": {
    "slideshow": {
     "slide_type": "slide"
    }
   },
   "outputs": [],
   "source": [
    "class BalonDeOrHolders2:\n",
    "    def __init__(self, how_many):\n",
    "        self.how_many = how_many\n",
    "        self.winners = {\"Lionel Messi\":\"7\",\n",
    "\"Cristiano Ronaldo\":\"5\",\n",
    "\"Johan Cruyff\":\"3\",\n",
    "\"Marco van Basten\":\"3\",\n",
    "\"Michel Platini\":\"3\",\n",
    "\"Franz Beckenbauer\":\"2\",\n",
    "\"Ronaldo\":\"2\",\n",
    "\"Alfredo Di Stefano\":\"2\",\n",
    "\"Kevin Keegan\":\"2\",\n",
    "\"Karl Heinz-Rummenigge\":\"2\"}\n",
    "    def __iter__(self):\n",
    "        self.filtered = [winner for winner in self.winners.items() if int(winner[1]) >= self.how_many]\n",
    "        self.index = 0\n",
    "        return self\n",
    "        \n",
    "    def __next__(self):\n",
    "        if self.index >= len(self.filtered):\n",
    "            raise StopIteration()\n",
    "        to_return = self.filtered[self.index]\n",
    "        self.index += 1\n",
    "        return to_return\n",
    "        "
   ]
  },
  {
   "cell_type": "code",
   "execution_count": 28,
   "id": "9a97476f",
   "metadata": {
    "slideshow": {
     "slide_type": "fragment"
    }
   },
   "outputs": [
    {
     "name": "stdout",
     "output_type": "stream",
     "text": [
      "('Lionel Messi', '7')\n",
      "('Cristiano Ronaldo', '5')\n"
     ]
    }
   ],
   "source": [
    "holders = BalonDeOrHolders2(4)\n",
    "for holder in holders:\n",
    "    print(holder)"
   ]
  },
  {
   "cell_type": "markdown",
   "id": "f9366689",
   "metadata": {
    "slideshow": {
     "slide_type": "slide"
    }
   },
   "source": [
    "### NOTE:\n",
    "\n",
    "It is bad practice to mix the **Iterable** with the **Iterator** in the same class as I did here. A dedicated **Iterator** class would be the way to go in this case"
   ]
  },
  {
   "cell_type": "markdown",
   "id": "43f3042f",
   "metadata": {
    "slideshow": {
     "slide_type": "slide"
    }
   },
   "source": [
    "### An Iterator out of any function\n",
    "\n",
    "We can also create an iterator out of any function we want"
   ]
  },
  {
   "cell_type": "code",
   "execution_count": 31,
   "id": "c22d8a74",
   "metadata": {
    "slideshow": {
     "slide_type": "slide"
    }
   },
   "outputs": [],
   "source": [
    "import random\n",
    "\n",
    "def iterate_me_until_i_return_guess():\n",
    "    return random.randint(1, 10)\n",
    "\n",
    "iterator = iter(iterate_me_until_i_return_guess, 7)"
   ]
  },
  {
   "cell_type": "code",
   "execution_count": 32,
   "id": "36dbee52",
   "metadata": {
    "slideshow": {
     "slide_type": "fragment"
    }
   },
   "outputs": [
    {
     "name": "stdout",
     "output_type": "stream",
     "text": [
      "5\n",
      "6\n",
      "4\n",
      "5\n",
      "8\n",
      "10\n",
      "9\n",
      "10\n",
      "4\n",
      "5\n",
      "4\n",
      "6\n",
      "2\n",
      "6\n"
     ]
    }
   ],
   "source": [
    "for i in iterator:\n",
    "    print(i)"
   ]
  },
  {
   "cell_type": "markdown",
   "id": "ee033728",
   "metadata": {
    "slideshow": {
     "slide_type": "slide"
    }
   },
   "source": [
    "You can obviously traverse iterators one step at a time:"
   ]
  },
  {
   "cell_type": "code",
   "execution_count": 36,
   "id": "3e2f0cec",
   "metadata": {
    "slideshow": {
     "slide_type": "fragment"
    }
   },
   "outputs": [
    {
     "name": "stdout",
     "output_type": "stream",
     "text": [
      "9\n",
      "2\n"
     ]
    }
   ],
   "source": [
    "iterator = iter(iterate_me_until_i_return_guess, 7)\n",
    "print(next(iterator))\n",
    "print(next(iterator))"
   ]
  },
  {
   "cell_type": "markdown",
   "id": "887e0e80",
   "metadata": {
    "slideshow": {
     "slide_type": "slide"
    }
   },
   "source": [
    "## Generators\n",
    "\n",
    "A **Generator** is a more idiomatic Python way to do what we did before, without the need to create an Iterator class\n",
    "A generator is created by any function that has the **yield** keyword in its body. \n",
    "A function like that is called a Generator Function"
   ]
  },
  {
   "cell_type": "code",
   "execution_count": 37,
   "id": "ed787ba8",
   "metadata": {
    "slideshow": {
     "slide_type": "slide"
    }
   },
   "outputs": [],
   "source": [
    "class BalonDeOrHolders3:\n",
    "    def __init__(self, how_many):\n",
    "        self.how_many = how_many\n",
    "        self.winners = {\"Lionel Messi\":\"7\",\n",
    "\"Cristiano Ronaldo\":\"5\",\n",
    "\"Johan Cruyff\":\"3\",\n",
    "\"Marco van Basten\":\"3\",\n",
    "\"Michel Platini\":\"3\",\n",
    "\"Franz Beckenbauer\":\"2\",\n",
    "\"Ronaldo\":\"2\",\n",
    "\"Alfredo Di Stefano\":\"2\",\n",
    "\"Kevin Keegan\":\"2\",\n",
    "\"Karl Heinz-Rummenigge\":\"2\"}\n",
    "        \n",
    "    def holders(self):\n",
    "        self.filtered = [winner for winner in self.winners.items() if int(winner[1]) >= self.how_many]\n",
    "        for holder in self.filtered:\n",
    "            yield holder"
   ]
  },
  {
   "cell_type": "code",
   "execution_count": 38,
   "id": "c6a52ad3",
   "metadata": {
    "slideshow": {
     "slide_type": "fragment"
    }
   },
   "outputs": [
    {
     "name": "stdout",
     "output_type": "stream",
     "text": [
      "('Lionel Messi', '7')\n",
      "('Cristiano Ronaldo', '5')\n",
      "('Johan Cruyff', '3')\n",
      "('Marco van Basten', '3')\n",
      "('Michel Platini', '3')\n"
     ]
    }
   ],
   "source": [
    "holders = BalonDeOrHolders3(3).holders()\n",
    "\n",
    "for holder in holders:\n",
    "    print(holder)"
   ]
  },
  {
   "cell_type": "code",
   "execution_count": 39,
   "id": "2750d528",
   "metadata": {
    "slideshow": {
     "slide_type": "fragment"
    }
   },
   "outputs": [
    {
     "name": "stdout",
     "output_type": "stream",
     "text": [
      "('Lionel Messi', '7')\n",
      "('Cristiano Ronaldo', '5')\n"
     ]
    }
   ],
   "source": [
    "holders = BalonDeOrHolders3(3).holders()\n",
    "\n",
    "print(next(holders))\n",
    "print(next(holders))"
   ]
  },
  {
   "cell_type": "markdown",
   "id": "5c9762fa",
   "metadata": {
    "slideshow": {
     "slide_type": "slide"
    }
   },
   "source": [
    "Really any function with a **yield** is a generator. no need to iterate as in the example above:"
   ]
  },
  {
   "cell_type": "code",
   "execution_count": 40,
   "id": "8f99e6fa",
   "metadata": {
    "slideshow": {
     "slide_type": "fragment"
    }
   },
   "outputs": [
    {
     "name": "stdout",
     "output_type": "stream",
     "text": [
      "<generator object yield_stuff at 0x1097b4cf0>\n",
      "hola\n",
      "ciao\n"
     ]
    }
   ],
   "source": [
    "def yield_stuff():\n",
    "    yield 'hola'\n",
    "    yield 'ciao'\n",
    "    \n",
    "generator = yield_stuff()\n",
    "\n",
    "print(generator)\n",
    "print(next(generator))\n",
    "print(next(generator))"
   ]
  },
  {
   "cell_type": "markdown",
   "id": "fa411d15",
   "metadata": {
    "slideshow": {
     "slide_type": "subslide"
    }
   },
   "source": [
    "Generators stop at every yield to give control back to the calling code"
   ]
  },
  {
   "cell_type": "code",
   "execution_count": 42,
   "id": "8ed788e7",
   "metadata": {
    "slideshow": {
     "slide_type": "fragment"
    }
   },
   "outputs": [
    {
     "name": "stdout",
     "output_type": "stream",
     "text": [
      "looking locally\n",
      "None\n",
      "looking online\n",
      "stuff\n"
     ]
    }
   ],
   "source": [
    "def try_in_different_places():\n",
    "    print(\"looking locally\")\n",
    "    yield None\n",
    "    print(\"looking online\")\n",
    "    yield \"stuff\"\n",
    "    \n",
    "generator = try_in_different_places()\n",
    "\n",
    "print(next(generator))\n",
    "print(next(generator))"
   ]
  },
  {
   "cell_type": "markdown",
   "id": "89e7b3e1",
   "metadata": {
    "slideshow": {
     "slide_type": "slide"
    }
   },
   "source": [
    "### NOTE\n",
    "\n",
    "There are quite a few Generators available in the standard library mainly in the **itertools**, and **functools** modules"
   ]
  },
  {
   "cell_type": "markdown",
   "id": "78b63ca4",
   "metadata": {
    "slideshow": {
     "slide_type": "slide"
    }
   },
   "source": [
    "#### Subgenerators\n",
    "\n",
    "A generator can delegate work to another generator using `yield from` from client side using the parent generator nothing changes it gets values yielded from both generators"
   ]
  },
  {
   "cell_type": "code",
   "execution_count": 45,
   "id": "e6c82fe4",
   "metadata": {
    "slideshow": {
     "slide_type": "fragment"
    }
   },
   "outputs": [
    {
     "name": "stdout",
     "output_type": "stream",
     "text": [
      "pedro\n",
      " --- tweets for pedro\n",
      "hola\n",
      "ciao\n",
      "mike\n",
      " --- tweets for mike\n",
      "hi\n",
      "bye\n"
     ]
    }
   ],
   "source": [
    "def tweets(user):\n",
    "    users = {'pedro': ['hola', 'ciao'],\n",
    "     'mike': ['hi', 'bye']}\n",
    "    for word in users[user]:\n",
    "        yield word\n",
    "        \n",
    "def all_tweets():\n",
    "    users = ['pedro', 'mike']\n",
    "    for user in users:\n",
    "        yield user\n",
    "        print(f\" --- tweets for {user}\")\n",
    "        yield from tweets(user)\n",
    "        \n",
    "\n",
    "for tweet in all_tweets():\n",
    "    print(tweet)"
   ]
  },
  {
   "cell_type": "markdown",
   "id": "ef921d64",
   "metadata": {
    "slideshow": {
     "slide_type": "slide"
    }
   },
   "source": [
    "## Classic Coroutines\n",
    "\n",
    "Classic coroutines are more or less generators used  a bit differently\n",
    "\n",
    "In concrete the type signature of a coroutine is something like `Generator[YieldType, SendType, ReturnType]`"
   ]
  },
  {
   "cell_type": "markdown",
   "id": "fd7f26b8",
   "metadata": {
    "slideshow": {
     "slide_type": "fragment"
    }
   },
   "source": [
    "The key differences between native coroutines and generators are:\n",
    "\n",
    "- Generators produce data for iteration\n",
    "\n",
    "- Coroutines are in general consumers of data. Not at all related to iteration"
   ]
  },
  {
   "cell_type": "code",
   "execution_count": 57,
   "id": "2d255857",
   "metadata": {
    "slideshow": {
     "slide_type": "slide"
    }
   },
   "outputs": [
    {
     "name": "stdout",
     "output_type": "stream",
     "text": [
      "Started Coroutine\n",
      "doing stuff 1 with quality max_quality\n",
      "doing stuff 2 with quality medium_quality\n"
     ]
    }
   ],
   "source": [
    "def do_stuff_with_quality(quality):\n",
    "    print(f\"doing stuff 1 with quality {quality}\")\n",
    "def do_stuff_with_quality2(quality):\n",
    "    print(f\"doing stuff 2 with quality {quality}\")\n",
    "def do_stuff_with_quality3(quality):\n",
    "    print(f\"doing stuff 3 with quality {quality}\")    \n",
    "    \n",
    "def step_by_step_coroutine():\n",
    "    print(\"Started Coroutine\")\n",
    "    quality = yield\n",
    "    do_stuff_with_quality(quality)\n",
    "    quality = yield\n",
    "    do_stuff_with_quality2(quality)\n",
    "    quality = yield\n",
    "    do_stuff_with_quality3(quality)   \n",
    "    yield \n",
    "\n",
    "routine =  step_by_step_coroutine()\n",
    "\n",
    "# Prime the coroutine\n",
    "next(routine)\n",
    "\n",
    "routine.send(\"max_quality\")\n",
    "routine.send(\"medium_quality\")\n",
    "routine.send(\"low_quality\")\n",
    "    "
   ]
  },
  {
   "cell_type": "markdown",
   "id": "539f32b6",
   "metadata": {
    "slideshow": {
     "slide_type": "subslide"
    }
   },
   "source": [
    "You can see the main difference with the Generators we have seen is the use of `send` in the client to send data to the coroutine."
   ]
  },
  {
   "cell_type": "markdown",
   "id": "94b20900",
   "metadata": {
    "slideshow": {
     "slide_type": "slide"
    }
   },
   "source": [
    "##### Coroutine States:\n",
    "\n",
    "'GEN_CREATED'\n",
    "Waiting to start execution.\n",
    "\n",
    "'GEN_RUNNING'\n",
    "Currently being executed by the interpreter.\n",
    "\n",
    "'GEN_SUSPENDED'\n",
    "Currently suspended at a yield expression.\n",
    "\n",
    "'GEN_CLOSED'\n",
    "Execution has completed.\n",
    "\n"
   ]
  },
  {
   "cell_type": "markdown",
   "id": "a64b676b",
   "metadata": {
    "slideshow": {
     "slide_type": "slide"
    }
   },
   "source": [
    "Example in a while loop\n",
    "\n",
    "It is common in many cases to have the `yield` inside a loop in the coroutine. you can imagine a code like the following:"
   ]
  },
  {
   "cell_type": "code",
   "execution_count": 59,
   "id": "e39c0a39",
   "metadata": {
    "slideshow": {
     "slide_type": "subslide"
    }
   },
   "outputs": [
    {
     "name": "stdout",
     "output_type": "stream",
     "text": [
      "Closing File\n"
     ]
    }
   ],
   "source": [
    "import os\n",
    "def buffer_to_file():\n",
    "    f = open(\"/tmp/stuff.txt\",\"w+\")\n",
    "    try:\n",
    "        while True:\n",
    "            contents = yield\n",
    "            f.write(contents)\n",
    "    except GeneratorExit:\n",
    "            print(\"Closing File\")\n",
    "            f.close()\n",
    "            \n",
    "\n",
    "coroutine = buffer_to_file()\n",
    "next(coroutine)\n",
    "\n",
    "coroutine.send(\"hola como estas\\n\")\n",
    "coroutine.send(\"yo estoy bien y tu\\n\")\n",
    "coroutine.close()\n",
    "        "
   ]
  },
  {
   "cell_type": "markdown",
   "id": "3808f31a",
   "metadata": {
    "slideshow": {
     "slide_type": "slide"
    }
   },
   "source": [
    "#### NOTE:\n",
    "\n",
    "\"Coroutines are a natural way of expressing many algorithms, such as simulations, games, asynchronous I/O, and other forms of event-driven programming or co-operative multitasking.\""
   ]
  },
  {
   "cell_type": "markdown",
   "id": "3ccfdc3c",
   "metadata": {
    "slideshow": {
     "slide_type": "slide"
    }
   },
   "source": [
    "### Concurrency with a single thread\n",
    "\n",
    "- Traditionally many concurrent tasks have been solved by using multithreading\n",
    "- Coroutines offer a way to tackle certain types of concurrent tasks with a single thread\n",
    "- Remember: Concurrency != Parallelism. Important to know that for achiving Parallelism a multithread (or multiprocess) approach is needed"
   ]
  },
  {
   "cell_type": "code",
   "execution_count": 63,
   "id": "9a459399",
   "metadata": {
    "slideshow": {
     "slide_type": "subslide"
    }
   },
   "outputs": [
    {
     "name": "stdout",
     "output_type": "stream",
     "text": [
      "In co2. Step 1\n",
      "In co1. Step 1\n",
      "In co1. Step 2\n",
      "In co1. Step 3\n",
      "In co1. Step 4\n",
      "In co1. Step 5\n",
      "In co1. Step 6\n",
      "In co1. Step 7\n",
      "In co1. Step 8\n",
      "In co1. Step 9\n",
      "In co1. Step 10\n",
      "In co2. Step 2\n",
      "In co1. Step 11\n",
      "In co1. Step 12\n",
      "In co1. Step 13\n",
      "In co1. Step 14\n",
      "In co1. Step 15\n",
      "In co1. Step 16\n",
      "In co1. Step 17\n",
      "In co1. Step 18\n",
      "In co1. Step 19\n",
      "In co1. Step 20\n",
      "In co2. Step 3\n",
      "In co1. Step 21\n",
      "In co1. Step 22\n",
      "In co1. Step 23\n",
      "In co1. Step 24\n",
      "In co1. Step 25\n",
      "In co1. Step 26\n",
      "In co1. Step 27\n",
      "In co1. Step 28\n",
      "In co1. Step 29\n",
      "In co1. Step 30\n",
      "In co2. Step 4\n",
      "In co1. Step 31\n",
      "In co1. Step 32\n",
      "In co1. Step 33\n",
      "In co1. Step 34\n",
      "In co1. Step 35\n",
      "In co1. Step 36\n",
      "In co1. Step 37\n",
      "In co1. Step 38\n",
      "In co1. Step 39\n",
      "In co1. Step 40\n",
      "In co2. Step 5\n",
      "In co1. Step 41\n",
      "In co1. Step 42\n",
      "In co1. Step 43\n",
      "In co1. Step 44\n",
      "In co1. Step 45\n",
      "In co1. Step 46\n",
      "In co1. Step 47\n",
      "In co1. Step 48\n",
      "In co1. Step 49\n",
      "In co1. Step 50\n",
      "In co2. Step 6\n",
      "In co1. Step 51\n",
      "In co1. Step 52\n",
      "In co1. Step 53\n",
      "In co1. Step 54\n",
      "In co1. Step 55\n",
      "In co1. Step 56\n",
      "In co1. Step 57\n",
      "In co1. Step 58\n",
      "In co1. Step 59\n",
      "In co1. Step 60\n",
      "In co2. Step 7\n",
      "In co1. Step 61\n",
      "In co1. Step 62\n",
      "In co1. Step 63\n",
      "In co1. Step 64\n",
      "In co1. Step 65\n",
      "In co1. Step 66\n",
      "In co1. Step 67\n",
      "In co1. Step 68\n",
      "In co1. Step 69\n",
      "In co1. Step 70\n",
      "In co2. Step 8\n",
      "In co1. Step 71\n",
      "In co1. Step 72\n",
      "In co1. Step 73\n",
      "In co1. Step 74\n",
      "In co1. Step 75\n",
      "In co1. Step 76\n",
      "In co1. Step 77\n",
      "In co1. Step 78\n",
      "In co1. Step 79\n",
      "In co1. Step 80\n",
      "In co2. Step 9\n",
      "In co1. Step 81\n",
      "In co1. Step 82\n",
      "In co1. Step 83\n",
      "In co1. Step 84\n",
      "In co1. Step 85\n",
      "In co1. Step 86\n",
      "In co1. Step 87\n",
      "In co1. Step 88\n",
      "In co1. Step 89\n",
      "In co1. Step 90\n",
      "In co2. Step 10\n",
      "In co1. Step 91\n",
      "In co1. Step 92\n",
      "In co1. Step 93\n",
      "In co1. Step 94\n",
      "In co1. Step 95\n",
      "In co1. Step 96\n",
      "In co1. Step 97\n",
      "In co1. Step 98\n",
      "In co1. Step 99\n",
      "In co1. Step 100\n",
      "In co2. Step 11\n"
     ]
    },
    {
     "ename": "StopIteration",
     "evalue": "",
     "output_type": "error",
     "traceback": [
      "\u001b[0;31m---------------------------------------------------------------------------\u001b[0m",
      "\u001b[0;31mStopIteration\u001b[0m                             Traceback (most recent call last)",
      "\u001b[0;32m/var/folders/1_/4k286fyn2xx0xv9ryqw83n_00000gp/T/ipykernel_63854/3059249341.py\u001b[0m in \u001b[0;36m<module>\u001b[0;34m\u001b[0m\n\u001b[1;32m     22\u001b[0m \u001b[0;32mwhile\u001b[0m \u001b[0;32mTrue\u001b[0m\u001b[0;34m:\u001b[0m\u001b[0;34m\u001b[0m\u001b[0;34m\u001b[0m\u001b[0m\n\u001b[1;32m     23\u001b[0m     \u001b[0;32mif\u001b[0m \u001b[0mstep1\u001b[0m \u001b[0;34m<\u001b[0m \u001b[0mstep2\u001b[0m \u001b[0;34m*\u001b[0m \u001b[0;36m10\u001b[0m\u001b[0;34m:\u001b[0m\u001b[0;34m\u001b[0m\u001b[0;34m\u001b[0m\u001b[0m\n\u001b[0;32m---> 24\u001b[0;31m         \u001b[0mstep1\u001b[0m \u001b[0;34m=\u001b[0m \u001b[0mco1\u001b[0m\u001b[0;34m.\u001b[0m\u001b[0msend\u001b[0m\u001b[0;34m(\u001b[0m\u001b[0mstep1\u001b[0m \u001b[0;34m+\u001b[0m \u001b[0;36m1\u001b[0m\u001b[0;34m)\u001b[0m\u001b[0;34m\u001b[0m\u001b[0;34m\u001b[0m\u001b[0m\n\u001b[0m\u001b[1;32m     25\u001b[0m     \u001b[0;32melse\u001b[0m\u001b[0;34m:\u001b[0m\u001b[0;34m\u001b[0m\u001b[0;34m\u001b[0m\u001b[0m\n\u001b[1;32m     26\u001b[0m         \u001b[0mstep2\u001b[0m \u001b[0;34m=\u001b[0m \u001b[0mco2\u001b[0m\u001b[0;34m.\u001b[0m\u001b[0msend\u001b[0m\u001b[0;34m(\u001b[0m\u001b[0mstep2\u001b[0m \u001b[0;34m+\u001b[0m \u001b[0;36m1\u001b[0m\u001b[0;34m)\u001b[0m\u001b[0;34m\u001b[0m\u001b[0;34m\u001b[0m\u001b[0m\n",
      "\u001b[0;31mStopIteration\u001b[0m: "
     ]
    }
   ],
   "source": [
    "def coroutine1():\n",
    "    step = yield 0\n",
    "    name = \"co1\"\n",
    "    for n in range(100):\n",
    "        print(f\"In {name}. Step {step}\")\n",
    "        step = yield step\n",
    "\n",
    "def coroutine2():\n",
    "    step = yield 0\n",
    "    name = \"co2\"\n",
    "    for n in range(11):\n",
    "        print(f\"In {name}. Step {step}\")\n",
    "        step = yield step     \n",
    "        \n",
    "\n",
    "co1 = coroutine1()\n",
    "co2 = coroutine2()\n",
    "\n",
    "step1 = next(co1)\n",
    "step2 = next(co2)\n",
    "\n",
    "while True:\n",
    "    if step1 < step2 * 10:\n",
    "        step1 = co1.send(step1 + 1)\n",
    "    else:\n",
    "        step2 = co2.send(step2 + 1)\n",
    "    "
   ]
  },
  {
   "cell_type": "markdown",
   "id": "09382e1a",
   "metadata": {
    "slideshow": {
     "slide_type": "slide"
    }
   },
   "source": [
    "### Native Coroutines. (For next time)"
   ]
  },
  {
   "cell_type": "code",
   "execution_count": null,
   "id": "24417cef",
   "metadata": {},
   "outputs": [],
   "source": []
  }
 ],
 "metadata": {
  "celltoolbar": "Slideshow",
  "kernelspec": {
   "display_name": "Python 3 (ipykernel)",
   "language": "python",
   "name": "python3"
  },
  "language_info": {
   "codemirror_mode": {
    "name": "ipython",
    "version": 3
   },
   "file_extension": ".py",
   "mimetype": "text/x-python",
   "name": "python",
   "nbconvert_exporter": "python",
   "pygments_lexer": "ipython3",
   "version": "3.8.9"
  }
 },
 "nbformat": 4,
 "nbformat_minor": 5
}
